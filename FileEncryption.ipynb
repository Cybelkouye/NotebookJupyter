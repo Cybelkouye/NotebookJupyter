{
 "cells": [
  {
   "cell_type": "markdown",
   "metadata": {},
   "source": [
    "## This help to encrypt a file with a key"
   ]
  },
  {
   "cell_type": "markdown",
   "metadata": {},
   "source": [
    "# Encryption with AES "
   ]
  },
  {
   "cell_type": "markdown",
   "metadata": {},
   "source": [
    "To encrypt the files, we have to import some librairies. \n",
    "Execute those commands in the terminal to install them : \n",
    " \n",
    "pip install pycryptodome \n",
    "\n",
    "pip install hashlib"
   ]
  },
  {
   "cell_type": "code",
   "execution_count": 1,
   "metadata": {},
   "outputs": [],
   "source": [
    "import Crypto\n",
    "from Crypto.Cipher import AES\n",
    "import hashlib as hsh\n",
    "import random"
   ]
  },
  {
   "cell_type": "code",
   "execution_count": 2,
   "metadata": {},
   "outputs": [
    {
     "name": "stdout",
     "output_type": "stream",
     "text": [
      "Enter the file name:fichier.txt\n"
     ]
    }
   ],
   "source": [
    "# Enter the file to cypher name\n",
    "filename = input(\"Enter the file name:\")"
   ]
  },
  {
   "cell_type": "code",
   "execution_count": 3,
   "metadata": {},
   "outputs": [
    {
     "name": "stdout",
     "output_type": "stream",
     "text": [
      "Enter the key:codesecret\n"
     ]
    }
   ],
   "source": [
    "# Enter the key\n",
    "key = input(\"Enter the key:\")"
   ]
  },
  {
   "cell_type": "code",
   "execution_count": 5,
   "metadata": {},
   "outputs": [],
   "source": [
    "# We read the file and extract the word to cypher \n",
    "fichier = open(filename, 'r')\n",
    "data = fichier.read()\n",
    "fichier.close()"
   ]
  },
  {
   "cell_type": "markdown",
   "metadata": {},
   "source": [
    "Here we make the word to cypher lenght as a multiple of 16 to use the AES encryption of it"
   ]
  },
  {
   "cell_type": "code",
   "execution_count": 6,
   "metadata": {},
   "outputs": [],
   "source": [
    "if(len(data) % 16 == 0):\n",
    "    print(\"ok\")\n",
    "else:\n",
    "    while (len(data) % 16 != 0):\n",
    "        data = data+' '"
   ]
  },
  {
   "cell_type": "code",
   "execution_count": 7,
   "metadata": {},
   "outputs": [
    {
     "data": {
      "text/plain": [
       "'Le mot a crypte si il contient des espaces      '"
      ]
     },
     "execution_count": 7,
     "metadata": {},
     "output_type": "execute_result"
    }
   ],
   "source": [
    "data"
   ]
  },
  {
   "cell_type": "markdown",
   "metadata": {},
   "source": [
    "Here we made the encryption, by creating a random vector and hashing the key "
   ]
  },
  {
   "cell_type": "code",
   "execution_count": 8,
   "metadata": {},
   "outputs": [],
   "source": [
    "iv = ''.join([chr(random.randint(0, 0x10)) for i in range(16)])\n",
    "keys = hsh.sha256(key.encode('utf-8')).digest()\n",
    "aes = AES.new(keys, AES.MODE_CBC, iv.encode(\"utf8\"))\n",
    "encd = aes.encrypt(data.encode('utf-8'))"
   ]
  },
  {
   "cell_type": "markdown",
   "metadata": {},
   "source": [
    "Here, we write the word cyphered in a file named filecyphered.txt and save the random vector in a file that you will need to decypher a file. "
   ]
  },
  {
   "cell_type": "code",
   "execution_count": 9,
   "metadata": {},
   "outputs": [
    {
     "data": {
      "text/plain": [
       "b'M\\xb2\\xda\\xa0\\xda\\x94\\x8f%\\xa5\\x846w\\xbe?\\x16\\xbf\\xbeK\\xd6\\x892\"\\xabl\\xe7Yv|\\xfdBP\\xa5\\xbbk\\xc0\\xda\\xaf\\x86\\x9d\\x8d\\xf7\\x85\\xd5\\x8cbXc2'"
      ]
     },
     "execution_count": 9,
     "metadata": {},
     "output_type": "execute_result"
    }
   ],
   "source": [
    "encd"
   ]
  },
  {
   "cell_type": "code",
   "execution_count": 10,
   "metadata": {},
   "outputs": [],
   "source": [
    "file = open(\"filecyphered.txt\", 'wb')"
   ]
  },
  {
   "cell_type": "code",
   "execution_count": 11,
   "metadata": {},
   "outputs": [],
   "source": [
    "file.write(encd)\n",
    "file.close()"
   ]
  },
  {
   "cell_type": "code",
   "execution_count": 12,
   "metadata": {},
   "outputs": [
    {
     "data": {
      "text/plain": [
       "'\\x02\\x01\\x06\\x00\\x07\\x02\\x04\\x06\\x0f\\x0f\\x00\\t\\n\\x02\\t\\x03'"
      ]
     },
     "execution_count": 12,
     "metadata": {},
     "output_type": "execute_result"
    }
   ],
   "source": [
    "iv"
   ]
  },
  {
   "cell_type": "code",
   "execution_count": 13,
   "metadata": {},
   "outputs": [],
   "source": [
    "vect = open(\"vector.txt\", 'w')"
   ]
  },
  {
   "cell_type": "code",
   "execution_count": 14,
   "metadata": {},
   "outputs": [],
   "source": [
    "vect.write(iv)\n",
    "vect.close()"
   ]
  },
  {
   "cell_type": "markdown",
   "metadata": {},
   "source": [
    "## Decryption with AES"
   ]
  },
  {
   "cell_type": "markdown",
   "metadata": {},
   "source": [
    "In order to decrypt a file, you must be sure it has been emcrypted with the previous algorithm and then, you put the vector generated during the encryption in the same repository. The default name for the vector is vector.txt. Do not change it. "
   ]
  },
  {
   "cell_type": "code",
   "execution_count": 15,
   "metadata": {},
   "outputs": [
    {
     "name": "stdout",
     "output_type": "stream",
     "text": [
      "Enter the file name:filecyphered.txt\n"
     ]
    }
   ],
   "source": [
    "# Enter the file to cypher name\n",
    "filename2 = input(\"Enter the file name:\")"
   ]
  },
  {
   "cell_type": "code",
   "execution_count": 16,
   "metadata": {},
   "outputs": [
    {
     "name": "stdout",
     "output_type": "stream",
     "text": [
      "Enter the key:codesecret\n"
     ]
    }
   ],
   "source": [
    "# Enter the key\n",
    "key = input(\"Enter the key:\")"
   ]
  },
  {
   "cell_type": "code",
   "execution_count": 18,
   "metadata": {},
   "outputs": [],
   "source": [
    "# We read the file and extract the word to decypher and also the vector\n",
    "file1 = open(filename2, 'rb')\n",
    "dcd = file1.read()\n",
    "file1.close()\n",
    "vect2 = open(\"vector.txt\", 'r')\n",
    "iv2 = vect2.read()\n",
    "vect2.close()"
   ]
  },
  {
   "cell_type": "code",
   "execution_count": 19,
   "metadata": {},
   "outputs": [
    {
     "data": {
      "text/plain": [
       "b'M\\xb2\\xda\\xa0\\xda\\x94\\x8f%\\xa5\\x846w\\xbe?\\x16\\xbf\\xbeK\\xd6\\x892\"\\xabl\\xe7Yv|\\xfdBP\\xa5\\xbbk\\xc0\\xda\\xaf\\x86\\x9d\\x8d\\xf7\\x85\\xd5\\x8cbXc2'"
      ]
     },
     "execution_count": 19,
     "metadata": {},
     "output_type": "execute_result"
    }
   ],
   "source": [
    "dcd"
   ]
  },
  {
   "cell_type": "code",
   "execution_count": 20,
   "metadata": {},
   "outputs": [
    {
     "data": {
      "text/plain": [
       "'\\x02\\x01\\x06\\x00\\x07\\x02\\x04\\x06\\x0f\\x0f\\x00\\t\\n\\x02\\t\\x03'"
      ]
     },
     "execution_count": 20,
     "metadata": {},
     "output_type": "execute_result"
    }
   ],
   "source": [
    "iv2"
   ]
  },
  {
   "cell_type": "markdown",
   "metadata": {},
   "source": [
    "Here we decypher the file, using the vector generated during encryption "
   ]
  },
  {
   "cell_type": "code",
   "execution_count": 21,
   "metadata": {},
   "outputs": [],
   "source": [
    "aes = AES.new(keys, AES.MODE_CBC, iv2.encode(\"utf8\"))\n",
    "s1 = aes.decrypt(dcd)\n",
    "s2 = ''.join(map(chr, s1))"
   ]
  },
  {
   "cell_type": "code",
   "execution_count": 22,
   "metadata": {},
   "outputs": [
    {
     "data": {
      "text/plain": [
       "'Le mot a crypte si il contient des espaces      '"
      ]
     },
     "execution_count": 22,
     "metadata": {},
     "output_type": "execute_result"
    }
   ],
   "source": [
    "s2"
   ]
  },
  {
   "cell_type": "markdown",
   "metadata": {},
   "source": [
    "We save it into a file named filedecyphered.txt"
   ]
  },
  {
   "cell_type": "code",
   "execution_count": 23,
   "metadata": {},
   "outputs": [],
   "source": [
    "filedecyphered = open(\"filedecyphered.txt\", 'w')\n",
    "filedecyphered.write(s2)\n",
    "filedecyphered.close()"
   ]
  },
  {
   "cell_type": "code",
   "execution_count": null,
   "metadata": {},
   "outputs": [],
   "source": []
  }
 ],
 "metadata": {
  "kernelspec": {
   "display_name": "Python 3",
   "language": "python",
   "name": "python3"
  },
  "language_info": {
   "codemirror_mode": {
    "name": "ipython",
    "version": 3
   },
   "file_extension": ".py",
   "mimetype": "text/x-python",
   "name": "python",
   "nbconvert_exporter": "python",
   "pygments_lexer": "ipython3",
   "version": "3.8.8"
  }
 },
 "nbformat": 4,
 "nbformat_minor": 4
}
